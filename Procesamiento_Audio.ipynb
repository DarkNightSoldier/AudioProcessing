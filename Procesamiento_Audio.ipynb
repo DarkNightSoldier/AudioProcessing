{
  "nbformat": 4,
  "nbformat_minor": 0,
  "metadata": {
    "colab": {
      "name": "Procesamiento_Audio.ipynb",
      "provenance": []
    },
    "kernelspec": {
      "name": "python3",
      "display_name": "Python 3"
    }
  },
  "cells": [
    {
      "cell_type": "markdown",
      "metadata": {
        "id": "VqegsZCvqwzl",
        "colab_type": "text"
      },
      "source": [
        "# Programa para el procesamiento de Audio"
      ]
    },
    {
      "cell_type": "markdown",
      "metadata": {
        "id": "ErSvY096q06V",
        "colab_type": "text"
      },
      "source": [
        "El programa consta de 5 partes:\n",
        "1) Reproducción lenta del audio, el usuario deberá definir qué tan lenta quiere la reproducción.\n",
        "2) Reproducción rápida del audio, el usuario deberá definir qué tan rápida quiere la reproducción, 3) Reproducción hacia atrás del audio \n",
        "4) Limpiar el audio de ruido de alta frecuencia, 5) Ecualización de las frecuencias bajas y altas del audio.\n",
        "5) Mezclar dos audios en el mismo archivo."
      ]
    },
    {
      "cell_type": "markdown",
      "metadata": {
        "id": "iVxNWbaRuGSM",
        "colab_type": "text"
      },
      "source": [
        "#1. Selección de archivo de audio"
      ]
    },
    {
      "cell_type": "code",
      "metadata": {
        "id": "k0oaaBDq1MFE",
        "colab_type": "code",
        "colab": {
          "base_uri": "https://localhost:8080/",
          "height": 34
        },
        "outputId": "7a49128e-417d-42c9-aafb-60b336eb7da7"
      },
      "source": [
        "! git clone https://github.com/DarkNightSoldier/AudioProcessing"
      ],
      "execution_count": 2,
      "outputs": [
        {
          "output_type": "stream",
          "text": [
            "fatal: destination path 'AudioProcessing' already exists and is not an empty directory.\n"
          ],
          "name": "stdout"
        }
      ]
    },
    {
      "cell_type": "code",
      "metadata": {
        "id": "xyoNhIofuE1x",
        "colab_type": "code",
        "colab": {}
      },
      "source": [
        "from scipy.io import wavfile\n",
        "from requests import get\n",
        "\n",
        "f = open('Test.wav','wb')\n",
        "f.write(requests.get('https://13e1e51c-a-62cb3a1a-s-sites.googlegroups.com/site/fagomezj/billete.jpg').content)\n",
        "f.close()"
      ],
      "execution_count": null,
      "outputs": []
    }
  ]
}