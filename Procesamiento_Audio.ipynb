{
  "nbformat": 4,
  "nbformat_minor": 0,
  "metadata": {
    "colab": {
      "name": "Procesamiento_Audio.ipynb",
      "provenance": []
    },
    "kernelspec": {
      "name": "python3",
      "display_name": "Python 3"
    }
  },
  "cells": [
    {
      "cell_type": "markdown",
      "metadata": {
        "id": "VqegsZCvqwzl",
        "colab_type": "text"
      },
      "source": [
        "# Programa para el procesamiento de Audio"
      ]
    },
    {
      "cell_type": "markdown",
      "metadata": {
        "id": "ErSvY096q06V",
        "colab_type": "text"
      },
      "source": [
        "El programa consta de "
      ]
    }
  ]
}